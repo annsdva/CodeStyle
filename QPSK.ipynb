{
 "cells": [
  {
   "cell_type": "code",
   "execution_count": 1,
   "id": "8b4adf97",
   "metadata": {},
   "outputs": [],
   "source": [
    "import random\n",
    "import math\n",
    "\n",
    "def randomDataGenerator(size):\n",
    "    data = [random.randint(0, 1) for i in range(size)]\n",
    "    return data\n",
    "\n",
    "def QPSK(data_array):\n",
    "    if (len(data_array) % 2 != 0):\n",
    "        print(\"Error, check data_array length\")\n",
    "        return 0\n",
    "    else:\n",
    "        di = [] # массив комплексных чисел\n",
    "        for i in range(0, len(data_array), 2):\n",
    "            b2i = data_array[i]\n",
    "            b2i1 = data_array[i+1]\n",
    "            real = (1 - 2 * b2i) / math.sqrt(2)\n",
    "            imag = (1 - 2 * b2i1) / math.sqrt(2)\n",
    "            di.append(complex(real, imag))\n",
    "        return di\n",
    "\n",
    "def QPSK16(data_array):\n",
    "    if (len(data_array) % 4 != 0):\n",
    "        print(\"Error, check data_array length\")\n",
    "        return 0\n",
    "    else:\n",
    "        di = [] # массив комплексных чисел\n",
    "        for i in range(0, len(data_array), 4):\n",
    "            b4i = data_array[i]\n",
    "            b4i1 = data_array[i+1]\n",
    "            b4i2 = data_array[i+2]\n",
    "            b4i3 = data_array[i+3]\n",
    "            real = (1 - 2 * b4i) * (4 - (1 - 2 * b4i2)) / math.sqrt(10)\n",
    "            imag = (1 - 2 * b4i1) * (4 - (1 - 2 * b4i3)) / math.sqrt(10)\n",
    "            di.append(complex(real, imag))\n",
    "        return di\n",
    "\n",
    "def QPSK64(data_array):\n",
    "    if (len(data_array) % 6 != 0):\n",
    "        print(\"Error, check data_array length\")\n",
    "        return 0\n",
    "    else:\n",
    "        di = [] # массив комплексных чисел\n",
    "        for i in range(0, len(data_array), 6):\n",
    "            b6i = data_array[i]\n",
    "            b6i1 = data_array[i+1]\n",
    "            b6i2 = data_array[i+2]\n",
    "            b6i3 = data_array[i+3]\n",
    "            b6i4 = data_array[i+4]\n",
    "            b6i5 = data_array[i+5]\n",
    "            real = (1 - 2 * b6i) * (6 - (1 - 2 * b6i2) * (4 - (1-2 * b6i4))) / math.sqrt(42)\n",
    "            imag = (1 - 2 * b6i1) * (6 - (1 - 2 * b6i3) * (4 - (1-2 * b6i5))) / math.sqrt(42)\n",
    "            di.append(complex(real, imag))\n",
    "        return di\n",
    "    \n",
    "def QPSK256(data_array):\n",
    "    if (len(data_array) % 8 != 0):\n",
    "        print(\"Error, check data_array length\")\n",
    "        return 0\n",
    "    else:\n",
    "        di = [] # массив комплексных чисел\n",
    "        for i in range(0, len(data_array), 8):\n",
    "            b8i = data_array[i]\n",
    "            b8i1 = data_array[i+1]\n",
    "            b8i2 = data_array[i+2]\n",
    "            b8i3 = data_array[i+3]\n",
    "            b8i4 = data_array[i+4]\n",
    "            b8i5 = data_array[i+5]\n",
    "            b8i6 = data_array[i+6]\n",
    "            b8i7 = data_array[i+7]\n",
    "            real = (1 - 2 * b8i) * (8 - (1 - 2 * b8i2) * (4 - (1-2 * b8i4) * (2 - (1 - 2 * b8i6)))) / math.sqrt(170)\n",
    "            imag = (1 - 2 * b8i1) * (8 - (1 - 2 * b8i3) * (4 - (1-2 * b8i5) * (2 - (1 - 2 * b8i7)))) / math.sqrt(170)\n",
    "            di.append(complex(real, imag))\n",
    "        return di\n",
    "\n",
    "def Decode(s, bits, func):\n",
    "    result=[]\n",
    "    for i in s:\n",
    "        didx = []\n",
    "        dnin = 2\n",
    "        for b in range(0, 2 ** bits):\n",
    "            array = []\n",
    "            for j in range (0, bits):\n",
    "                array.append(b & 1)\n",
    "                b = b >> 1\n",
    "            res = func(array)[0]\n",
    "            dx = res.real - i.real\n",
    "            dy = res.imag - i.imag\n",
    "            d = dx * dx + dy * dy\n",
    "            if d < dnin:\n",
    "                didx = array\n",
    "                dnin = d\n",
    "        result = result + didx\n",
    "    return result\n",
    "\n"
   ]
  },
  {
   "cell_type": "code",
   "execution_count": 2,
   "id": "5937b366",
   "metadata": {},
   "outputs": [
    {
     "name": "stdout",
     "output_type": "stream",
     "text": [
      "1. Generated array =  [1, 0, 1, 1, 0, 0, 0, 1, 0, 0, 1, 1, 1, 1, 0, 0, 1, 0, 0, 0, 1, 0, 1, 1]\n",
      "2. Modulated array =  [(-0.7071067811865475+0.7071067811865475j), (-0.7071067811865475-0.7071067811865475j), (0.7071067811865475+0.7071067811865475j), (0.7071067811865475-0.7071067811865475j), (0.7071067811865475+0.7071067811865475j), (-0.7071067811865475-0.7071067811865475j), (-0.7071067811865475-0.7071067811865475j), (0.7071067811865475+0.7071067811865475j), (-0.7071067811865475+0.7071067811865475j), (0.7071067811865475+0.7071067811865475j), (-0.7071067811865475+0.7071067811865475j), (-0.7071067811865475-0.7071067811865475j)]\n",
      "2. decode array =  [1, 0, 1, 1, 0, 0, 0, 1, 0, 0, 1, 1, 1, 1, 0, 0, 1, 0, 0, 0, 1, 0, 1, 1]\n"
     ]
    }
   ],
   "source": [
    "array = randomDataGenerator(24)\n",
    "print(\"1. Generated array = \", array)\n",
    "modulated = QPSK(array)\n",
    "print(\"2. Modulated array = \",modulated)\n",
    "decode = Decode (QPSK(array), 2, QPSK)\n",
    "print(\"2. decode array = \", decode)"
   ]
  },
  {
   "cell_type": "code",
   "execution_count": 3,
   "id": "2f124dd2",
   "metadata": {},
   "outputs": [
    {
     "name": "stdout",
     "output_type": "stream",
     "text": [
      "1. Generated array =  [1, 1, 0, 1, 0, 0, 1, 1, 1, 0, 0, 1, 1, 0, 0, 1, 0, 1, 1, 1, 1, 0, 1, 1]\n",
      "2. Modulated array =  [(-0.9486832980505138-1.5811388300841895j), (1.5811388300841895+1.5811388300841895j), (-0.9486832980505138+1.5811388300841895j), (-0.9486832980505138+1.5811388300841895j), (1.5811388300841895-1.5811388300841895j), (-1.5811388300841895+1.5811388300841895j)]\n",
      "2. decode array =  [1, 1, 0, 1, 0, 0, 1, 1, 1, 0, 0, 1, 1, 0, 0, 1, 0, 1, 1, 1, 1, 0, 1, 1]\n"
     ]
    }
   ],
   "source": [
    "array = randomDataGenerator(24)\n",
    "print(\"1. Generated array = \", array)\n",
    "modulated = QPSK16(array)\n",
    "print(\"2. Modulated array = \",modulated)\n",
    "decode = Decode (QPSK16(array), 4, QPSK16)\n",
    "print(\"2. decode array = \", decode)"
   ]
  },
  {
   "cell_type": "code",
   "execution_count": 4,
   "id": "1f2546cb",
   "metadata": {},
   "outputs": [
    {
     "name": "stdout",
     "output_type": "stream",
     "text": [
      "1. Generated array =  [1, 1, 0, 0, 1, 1, 0, 1, 1, 0, 1, 1, 0, 0, 0, 0, 0, 0, 1, 1, 0, 0, 0, 0]\n",
      "2. Modulated array =  [(-0.1543033499620919-0.1543033499620919j), (1.697336849583011-0.1543033499620919j), (0.4629100498862757+0.4629100498862757j), (-0.4629100498862757-0.4629100498862757j)]\n",
      "2. decode array =  [1, 1, 0, 0, 1, 1, 0, 1, 1, 0, 1, 1, 0, 0, 0, 0, 0, 0, 1, 1, 0, 0, 0, 0]\n"
     ]
    }
   ],
   "source": [
    "array = randomDataGenerator(24)\n",
    "print(\"1. Generated array = \", array)\n",
    "modulated = QPSK64(array)\n",
    "print(\"2. Modulated array = \",modulated)\n",
    "decode = Decode (QPSK64(array), 6, QPSK64)\n",
    "print(\"2. decode array = \", decode)"
   ]
  },
  {
   "cell_type": "code",
   "execution_count": 5,
   "id": "d956bd1e",
   "metadata": {},
   "outputs": [
    {
     "name": "stdout",
     "output_type": "stream",
     "text": [
      "1. Generated array =  [0, 0, 0, 1, 1, 1, 1, 0, 1, 1, 1, 1, 1, 1, 0, 1, 1, 0, 1, 0, 1, 1, 1, 1]\n",
      "2. Modulated array =  [(0.07669649888473704+0.9970544855015815j), (-0.9970544855015815-1.1504474832710556j), (-1.1504474832710556+0.07669649888473704j)]\n",
      "2. decode array =  [0, 0, 0, 1, 1, 1, 1, 0, 1, 1, 1, 1, 1, 1, 0, 1, 1, 0, 1, 0, 1, 1, 1, 1]\n"
     ]
    }
   ],
   "source": [
    "array = randomDataGenerator(24)\n",
    "print(\"1. Generated array = \", array)\n",
    "modulated = QPSK256(array)\n",
    "print(\"2. Modulated array = \",modulated)\n",
    "decode = Decode (QPSK256(array), 8, QPSK256)\n",
    "print(\"2. decode array = \", decode)"
   ]
  },
  {
   "cell_type": "code",
   "execution_count": null,
   "id": "b524a8d1",
   "metadata": {},
   "outputs": [],
   "source": []
  }
 ],
 "metadata": {
  "kernelspec": {
   "display_name": "Python 3 (ipykernel)",
   "language": "python",
   "name": "python3"
  },
  "language_info": {
   "codemirror_mode": {
    "name": "ipython",
    "version": 3
   },
   "file_extension": ".py",
   "mimetype": "text/x-python",
   "name": "python",
   "nbconvert_exporter": "python",
   "pygments_lexer": "ipython3",
   "version": "3.9.7"
  }
 },
 "nbformat": 4,
 "nbformat_minor": 5
}
