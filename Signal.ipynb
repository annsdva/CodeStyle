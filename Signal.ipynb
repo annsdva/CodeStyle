{
 "cells": [
  {
   "cell_type": "code",
   "execution_count": 57,
   "id": "7158ca2d",
   "metadata": {
    "scrolled": true
   },
   "outputs": [
    {
     "name": "stdout",
     "output_type": "stream",
     "text": [
      "Requirement already satisfied: sounddevice in c:\\users\\123\\anaconda3\\lib\\site-packages (0.4.4)\n",
      "Requirement already satisfied: CFFI>=1.0 in c:\\users\\123\\anaconda3\\lib\\site-packages (from sounddevice) (1.15.0)\n",
      "Requirement already satisfied: pycparser in c:\\users\\123\\anaconda3\\lib\\site-packages (from CFFI>=1.0->sounddevice) (2.21)\n",
      "Requirement already satisfied: numpy in c:\\users\\123\\anaconda3\\lib\\site-packages (1.21.5)\n"
     ]
    }
   ],
   "source": [
    "import sys\n",
    "\n",
    "!{sys.executable} -m pip install sounddevice\n",
    "!{sys.executable} -m pip install numpy\n",
    "\n",
    "import numpy as np\n",
    "import matplotlib\n",
    "import matplotlib.pyplot as plt"
   ]
  },
  {
   "cell_type": "code",
   "execution_count": 58,
   "id": "4d9a276f",
   "metadata": {},
   "outputs": [],
   "source": [
    "duration = 0.4  # длительность сигнала в секундах\n",
    "duration1 = 0.6  # длительность сигнала в секундах\n",
    "amplitude = 0.5  # амплитуда  (в пределах: +-1.0)\n",
    "frequency = 293.6648  # частота сигнала в [Гц]\n",
    "# т.к. невозможно программно организовать аналоговый сигнал, необходимо обозначить\n",
    "fs = 80000 # 80 тыс. временных отсчетов в 1 секунду количество временных отчетов, т.е. частоту дискретизации (об этом чуть позже)"
   ]
  },
  {
   "cell_type": "code",
   "execution_count": 59,
   "id": "f9ba1e1b",
   "metadata": {},
   "outputs": [],
   "source": [
    "timeSamples = np.arange(np.ceil(duration * fs)) / fs\n",
    "timeSamples1 = np.arange(np.ceil(duration1 * fs)) / fs"
   ]
  },
  {
   "cell_type": "code",
   "execution_count": 60,
   "id": "7e4d327e",
   "metadata": {},
   "outputs": [],
   "source": [
    "import sounddevice as sd\n",
    "\n"
   ]
  },
  {
   "cell_type": "code",
   "execution_count": 63,
   "id": "ef64362f",
   "metadata": {},
   "outputs": [],
   "source": [
    "signal1 = amplitude * np.sin(2 * np.pi * 293 * timeSamples) #ре 1 окта\n",
    "signal2 = amplitude * np.sin(2 * np.pi * 329 * timeSamples) #ми 1 окта\n",
    "signal3 = amplitude * np.sin(2 * np.pi * 277 * timeSamples) #до-диез 1 окта\n",
    "signal4 = amplitude * np.sin(2 * np.pi * 246 * timeSamples) #си малой окта\n",
    "signal5 = amplitude * np.sin(2 * np.pi * 233 * timeSamples) #ля-диез малой окта\n",
    "signal6 = amplitude * np.sin(2 * np.pi * 185 * timeSamples) #фа-диез малой окта\n",
    "signal7 = amplitude * np.sin(2 * np.pi * 246 * timeSamples1) #си малой окта длинная\n",
    "\n",
    "sd.play(signal1, fs, None, 1)\n",
    "sd.play(signal1, fs, None, 1)\n",
    "sd.play(signal1, fs, None, 1)\n",
    "sd.play(signal2, fs, None, 1)\n",
    "sd.play(signal1, fs, None, 1)\n",
    "sd.play(signal3, fs, None, 1)\n",
    "sd.play(signal4, fs, None, 1)\n",
    "sd.play(signal4, fs, None, 1)\n",
    "sd.play(signal4, fs, None, 1)\n",
    "sd.play(signal5, fs, None, 1)\n",
    "sd.play(signal6, fs, None, 1)\n",
    "sd.play(signal6, fs, None, 1)\n",
    "sd.play(signal6, fs, None, 1)\n",
    "sd.play(signal1, fs, None, 1)\n",
    "sd.play(signal1, fs, None, 1)\n",
    "sd.play(signal1, fs, None, 1)\n",
    "sd.play(signal2, fs, None, 1)\n",
    "sd.play(signal1, fs, None, 1)\n",
    "sd.play(signal3, fs, None, 1)\n",
    "sd.play(signal4, fs, None, 1)\n",
    "sd.play(signal7, fs, None, 1)\n",
    "sd.play(signal7, fs, None, 1)\n",
    "sd.play(signal3, fs, None, 1)\n",
    "sd.play(signal1, fs, None, 1)\n",
    "sd.play(signal3, fs, None, 1)\n",
    "sd.play(signal4, fs, None, 1)"
   ]
  }
 ],
 "metadata": {
  "kernelspec": {
   "display_name": "Python 3 (ipykernel)",
   "language": "python",
   "name": "python3"
  },
  "language_info": {
   "codemirror_mode": {
    "name": "ipython",
    "version": 3
   },
   "file_extension": ".py",
   "mimetype": "text/x-python",
   "name": "python",
   "nbconvert_exporter": "python",
   "pygments_lexer": "ipython3",
   "version": "3.9.12"
  }
 },
 "nbformat": 4,
 "nbformat_minor": 5
}
