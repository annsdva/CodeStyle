{
 "cells": [
  {
   "cell_type": "code",
   "execution_count": 1,
   "id": "05f50f99",
   "metadata": {},
   "outputs": [
    {
     "name": "stdout",
     "output_type": "stream",
     "text": [
      "93.81033827409607\n",
      "55.62830189367063\n"
     ]
    }
   ],
   "source": [
    " import numpy as np\n",
    "\n",
    "WifiTxPower = 23\n",
    "UETxPower = 20\n",
    "WifiAntGain = 6\n",
    "UEAntGain = 0\n",
    "WifiNoiseFig = 3\n",
    "UENoiseFig = 7\n",
    "WifisinR = -1\n",
    "UEsinR = -1\n",
    "height = 5\n",
    "bandwidth = 20000000\n",
    "BuildinPen = 6\n",
    "IM = 3\n",
    "frequency1 = 5\n",
    "frequency2 = 2.4\n",
    "def CalculateLength(TxPow, AntGain, NoiseF, sinR, freq):\n",
    "AWGN = -174 + 10 * np.log10(bandwidth)\n",
    "RxSense = AWGN + NoiseF + sinR\n",
    "Power = TxPow + AntGain\n",
    "MAPL = Power - BuildinPen - IM - RxSense - 1\n",
    "d = pow(10, (MAPL - 26 * np.log10(freq) - 22.7) / 36.7)\n",
    "return np.sqrt(d * d - height * height)\n",
    "\n",
    "WiFilen = CalculateLength(WifiTxPower, WifiAntGain, WifiNoise, UEsinR, frequency1)\n",
    "UElen = CalculateLength(UETxPower, UEAntGain, UENoise, WifisinR, frequency1)\n",
    "print(\"WiFilen for 5 hz = \", WiFilen)\n",
    "print(\"UElen for 5 hz = \", UElen)\n",
    "\n",
    "print(min(WiFilen, UElen))\n",
    "\n",
    "\n",
    "WiFilen = CalculateLength(WifiTxPower, WifiAntGain, WifiNoise, UEsinR, frequency2)\n",
    "UElen = CalculateLength(UETxPower, UEAntGain, UENoise, WifisinR, frequency2)\n",
    "print(\"WiFilen for 2.4 hz = \", WiFilen)\n",
    "print(\"UElen for 2.4 hz = \", UElen)\n",
    "\n",
    "print(min(WiFilen, UElen))"
   ]
  }
 ],
 "metadata": {
  "kernelspec": {
   "display_name": "Python 3 (ipykernel)",
   "language": "python",
   "name": "python3"
  },
  "language_info": {
   "codemirror_mode": {
    "name": "ipython",
    "version": 3
   },
   "file_extension": ".py",
   "mimetype": "text/x-python",
   "name": "python",
   "nbconvert_exporter": "python",
   "pygments_lexer": "ipython3",
   "version": "3.9.12"
  }
 },
 "nbformat": 4,
 "nbformat_minor": 5
}
