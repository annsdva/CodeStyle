{
 "cells": [
  {
   "cell_type": "code",
   "execution_count": 1,
   "id": "05f50f99",
   "metadata": {},
   "outputs": [
    {
     "name": "stdout",
     "output_type": "stream",
     "text": [
      "93.81033827409607\n",
      "55.62830189367063\n"
     ]
    }
   ],
   "source": [
    " import numpy as np\n",
    "\n",
    "Wifipow = 23\n",
    "UEpow = 20\n",
    "WifiGain = 6\n",
    "UEGain = 0\n",
    "WifiNoise = 3\n",
    "UENoise = 7\n",
    "WifiSINR = -1\n",
    "UESINR = -1\n",
    "height = 5\n",
    "bandwidth = 20000000\n",
    "buildPen = 6\n",
    "UU = 3\n",
    "\n",
    "def CalculateLength(txpow, gain, noisef, sinr, freq):\n",
    "    thermnoise = -174 + 10 * np.log10(bandwidth)\n",
    "    rxsense = thermnoise + noisef + sinr\n",
    "    sigpower = txpow + gain\n",
    "    maxlos = sigpower - buildPen - UU - rxsense - 1\n",
    "    d = pow(10, (maxlos - 26 * np.log10(freq) - 22.7) / 36.7)\n",
    "    return np.sqrt(d * d - height * height)\n",
    "\n",
    "\n",
    "def CalculateMaxD(freq):\n",
    "    wifilen = CalculateLength(Wifipow, WifiGain, WifiNoise, UESINR, freq)\n",
    "    uelen = CalculateLength(UEpow, UEGain, UENoise, WifiSINR, freq)\n",
    "    return min(wifilen, uelen)\n",
    "\n",
    "print(CalculateMaxD(2.4))\n",
    "print(CalculateMaxD(5))"
   ]
  }
 ],
 "metadata": {
  "kernelspec": {
   "display_name": "Python 3 (ipykernel)",
   "language": "python",
   "name": "python3"
  },
  "language_info": {
   "codemirror_mode": {
    "name": "ipython",
    "version": 3
   },
   "file_extension": ".py",
   "mimetype": "text/x-python",
   "name": "python",
   "nbconvert_exporter": "python",
   "pygments_lexer": "ipython3",
   "version": "3.9.12"
  }
 },
 "nbformat": 4,
 "nbformat_minor": 5
}
